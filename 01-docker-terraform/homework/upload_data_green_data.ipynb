{
 "cells": [
  {
   "cell_type": "code",
   "execution_count": null,
   "metadata": {},
   "outputs": [],
   "source": [
    "import time\n",
    "import pandas as pd\n",
    "from decouple import config\n",
    "from sqlalchemy import create_engine"
   ]
  },
  {
   "cell_type": "code",
   "execution_count": null,
   "metadata": {},
   "outputs": [],
   "source": [
    "user = config('user')\n",
    "password = config('password')\n",
    "host = config('host')\n",
    "port = config('port')\n",
    "db = config('db')\n",
    "\n",
    "engine = create_engine(f\"postgresql://{user}:{password}@{host}:{port}/{db}\")"
   ]
  },
  {
   "cell_type": "code",
   "execution_count": null,
   "metadata": {},
   "outputs": [],
   "source": [
    "# create field headings in database\n",
    "\n",
    "df = pd.read_csv('green_tripdata_2019-09.csv')\n",
    "df.head(n=0).to_sql(name='green_taxi_trips', con=engine, if_exists='replace')"
   ]
  },
  {
   "cell_type": "code",
   "execution_count": null,
   "metadata": {},
   "outputs": [],
   "source": [
    "\n",
    "\n",
    "# Define the chunk size (number of rows per chunk)\n",
    "chunk_size = 100000\n",
    "\n",
    "# Function to load DataFrame into PostgreSQL in chunks\n",
    "def load_dataframe_to_postgres(df, engine, chunk_size):\n",
    "    total_rows = len(df)\n",
    "    \n",
    "    for start in range(0, total_rows, chunk_size):\n",
    "        # Record the start time\n",
    "        start_time = time.time()\n",
    "\n",
    "        end = min(start + chunk_size, total_rows)\n",
    "        chunk = df.iloc[start:end]\n",
    "        \n",
    "        # Write the chunk to the PostgreSQL table\n",
    "        chunk.to_sql(\"green_taxi_trips\", engine, if_exists='append', index=False)\n",
    "\n",
    "        # Record the end time\n",
    "        end_time = time.time()\n",
    "        \n",
    "        # Calculate and print the elapsed time\n",
    "        elapsed_time = end_time - start_time\n",
    "        print(f\"Chunk {start}-{end-1} loaded in {elapsed_time:.2f} seconds\")\n",
    "\n",
    "\n",
    "# Call the function to load the DataFrame in chunks\n",
    "load_dataframe_to_postgres(df, engine, chunk_size)"
   ]
  },
  {
   "cell_type": "code",
   "execution_count": null,
   "metadata": {},
   "outputs": [],
   "source": [
    "df_zones = pd.read_csv('taxi+_zone_lookup.csv')\n",
    "df_zones.to_sql(name='zones', con=engine, if_exists='replace')"
   ]
  },
  {
   "cell_type": "code",
   "execution_count": null,
   "metadata": {},
   "outputs": [],
   "source": [
    "query = \"\"\"\n",
    "SELECT *\n",
    "FROM pg_catalog.pg_tables\n",
    "WHERE schemaname != 'pg_catalog' AND schemaname != 'information_schema';\"\"\"\n",
    "\n",
    "pd.read_sql(query, con=engine)"
   ]
  },
  {
   "cell_type": "code",
   "execution_count": null,
   "metadata": {},
   "outputs": [],
   "source": [
    "query = \"\"\"\n",
    "SELECT\n",
    "    column_name,\n",
    "    data_type\n",
    "FROM\n",
    "    information_schema.columns\n",
    "WHERE\n",
    "    table_name = 'green_taxi_trips';\"\"\"\n",
    "\n",
    "pd.read_sql(query, con=engine)"
   ]
  },
  {
   "cell_type": "code",
   "execution_count": null,
   "metadata": {},
   "outputs": [],
   "source": [
    "query = \"\"\"\n",
    "SELECT\n",
    "    column_name,\n",
    "    data_type\n",
    "FROM\n",
    "    information_schema.columns\n",
    "WHERE\n",
    "    table_name = 'zones';\"\"\"\n",
    "\n",
    "pd.read_sql(query, con=engine)"
   ]
  }
 ],
 "metadata": {
  "kernelspec": {
   "display_name": ".venv",
   "language": "python",
   "name": "python3"
  },
  "language_info": {
   "codemirror_mode": {
    "name": "ipython",
    "version": 3
   },
   "file_extension": ".py",
   "mimetype": "text/x-python",
   "name": "python",
   "nbconvert_exporter": "python",
   "pygments_lexer": "ipython3",
   "version": "3.10.12"
  }
 },
 "nbformat": 4,
 "nbformat_minor": 2
}
